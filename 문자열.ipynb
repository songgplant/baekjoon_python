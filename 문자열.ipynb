{
 "cells": [
  {
   "cell_type": "code",
   "execution_count": 8,
   "id": "edd7f970",
   "metadata": {},
   "outputs": [
    {
     "name": "stdout",
     "output_type": "stream",
     "text": [
      "3\n",
      "123\n",
      "6\n"
     ]
    }
   ],
   "source": [
    "#11720번\n",
    "n = input()\n",
    "print(sum(map(int,input())))"
   ]
  },
  {
   "cell_type": "code",
   "execution_count": 9,
   "id": "74001b04",
   "metadata": {},
   "outputs": [
    {
     "name": "stdout",
     "output_type": "stream",
     "text": [
      "4\n",
      "2345\n",
      "14\n"
     ]
    }
   ],
   "source": [
    "n = input()\n",
    "nums = input()\n",
    "total = 0\n",
    "for i in nums :\n",
    "    total += int(i)\n",
    "print(total)"
   ]
  },
  {
   "cell_type": "code",
   "execution_count": 11,
   "id": "cf7f1939",
   "metadata": {},
   "outputs": [
    {
     "name": "stdout",
     "output_type": "stream",
     "text": [
      "3\n",
      "234\n",
      "9\n"
     ]
    }
   ],
   "source": [
    "n = int(input())\n",
    "nums = input()\n",
    "total = 0\n",
    "for i in range(n) :\n",
    "    total += int(nums[i])\n",
    "print(total)"
   ]
  },
  {
   "cell_type": "code",
   "execution_count": 64,
   "id": "73310012",
   "metadata": {},
   "outputs": [
    {
     "name": "stdout",
     "output_type": "stream",
     "text": [
      "apple\n",
      "0 -1 -1 -1 4 -1 -1 -1 -1 -1 -1 3 -1 -1 -1 1 -1 -1 -1 -1 -1 -1 -1 -1 -1 -1 "
     ]
    }
   ],
   "source": [
    "#10809번\n",
    "givenword = input()\n",
    "abc = 'abcdefghijklmnopqrstuvwxyz'\n",
    "\n",
    "for i in abc :\n",
    "    if i in givenword :\n",
    "        print(givenword.index(i), end=' ')\n",
    "    else :\n",
    "        print(-1, end=' ')"
   ]
  },
  {
   "cell_type": "code",
   "execution_count": 71,
   "id": "8abdd8d1",
   "metadata": {},
   "outputs": [
    {
     "name": "stdout",
     "output_type": "stream",
     "text": [
      "2\n",
      "3 ab\n",
      "aaabbb\n",
      "4 bc\n",
      "bbbbcccc\n"
     ]
    }
   ],
   "source": [
    "#2675번\n",
    "testcnt = int(input())\n",
    "for x in range(testcnt) :\n",
    "    num, words = input().split()\n",
    "    for i in words :\n",
    "        for k in range(int(num)) :\n",
    "            print(i, end='')\n",
    "    print()"
   ]
  },
  {
   "cell_type": "code",
   "execution_count": 100,
   "id": "a58c1077",
   "metadata": {},
   "outputs": [
    {
     "name": "stdout",
     "output_type": "stream",
     "text": [
      "abccd\n",
      "C\n"
     ]
    }
   ],
   "source": [
    "# 1157번 문자열 - 단어공부\n",
    "# 코드는 짰는데, 대소문자 구분 안 하는 것에서 막혔다.\n",
    "# 채점 100%에서 런타임 에러..\n",
    "testword = input().lower()\n",
    "abcdict = dict()\n",
    "for i in testword :\n",
    "    if i in abcdict :\n",
    "        abcdict[i] += 1\n",
    "    else :\n",
    "        abcdict[i] = 1\n",
    "        \n",
    "# 정렬하는 시간이 오래 걸리는 듯..\n",
    "sortabc = sorted(abcdict.items(), key=(lambda x : x[1]), reverse=True)\n",
    "\n",
    "if sortabc[0][1] == sortabc[1][1] :\n",
    "    print('?')\n",
    "else :\n",
    "    print(sortabc[0][0].upper())"
   ]
  },
  {
   "cell_type": "code",
   "execution_count": 101,
   "id": "39e2a12e",
   "metadata": {},
   "outputs": [
    {
     "name": "stdout",
     "output_type": "stream",
     "text": [
      "apple\n",
      "P\n"
     ]
    }
   ],
   "source": [
    "# 런타임 통과 코드\n",
    "word = input().lower()\n",
    "word_list = list(set(word))\n",
    "cnt = []\n",
    "\n",
    "for i in word_list :\n",
    "    count = word.count(i)\n",
    "    cnt.append(count)\n",
    "\n",
    "if cnt.count(max(cnt)) >= 2 :\n",
    "    print(\"?\")\n",
    "else :\n",
    "    print(word_list[(cnt.index(max(cnt)))].upper())"
   ]
  },
  {
   "cell_type": "code",
   "execution_count": 104,
   "id": "6953e6e0",
   "metadata": {},
   "outputs": [
    {
     "name": "stdout",
     "output_type": "stream",
     "text": [
      "he was a\n",
      "3\n"
     ]
    }
   ],
   "source": [
    "# 1152번 단어의 개수\n",
    "testsentence = list((input().split()))\n",
    "print(len(testsentence))"
   ]
  },
  {
   "cell_type": "code",
   "execution_count": 136,
   "id": "71bbb68c",
   "metadata": {},
   "outputs": [
    {
     "name": "stdout",
     "output_type": "stream",
     "text": [
      "456 78\n",
      "87\n"
     ]
    }
   ],
   "source": [
    "# 2908번\n",
    "# list(a).reverse()가 안돼서.. \n",
    "a, b = input().split()\n",
    "a = list(a)\n",
    "b = list(b)\n",
    "a.reverse()\n",
    "b.reverse()\n",
    "a2 = ''.join(a)\n",
    "b2 = ''.join(b)\n",
    "if a2 > b2 :\n",
    "    print(a2)\n",
    "else :\n",
    "    print(b2)"
   ]
  },
  {
   "cell_type": "code",
   "execution_count": 137,
   "id": "970fb656",
   "metadata": {},
   "outputs": [
    {
     "data": {
      "text/plain": [
       "'abc'"
      ]
     },
     "execution_count": 137,
     "metadata": {},
     "output_type": "execute_result"
    }
   ],
   "source": [
    "# 거꾸로 출력하기 [시작:끝:규칙]\n",
    "teststr = 'abc'\n",
    "teststr[::1]"
   ]
  },
  {
   "cell_type": "code",
   "execution_count": 138,
   "id": "25a6b7bd",
   "metadata": {},
   "outputs": [
    {
     "data": {
      "text/plain": [
       "'cba'"
      ]
     },
     "execution_count": 138,
     "metadata": {},
     "output_type": "execute_result"
    }
   ],
   "source": [
    "teststr[::-1]"
   ]
  },
  {
   "cell_type": "code",
   "execution_count": 139,
   "id": "0cc0b6ab",
   "metadata": {},
   "outputs": [
    {
     "data": {
      "text/plain": [
       "'ca'"
      ]
     },
     "execution_count": 139,
     "metadata": {},
     "output_type": "execute_result"
    }
   ],
   "source": [
    "teststr[::-2]"
   ]
  },
  {
   "cell_type": "code",
   "execution_count": null,
   "id": "89e33e90",
   "metadata": {},
   "outputs": [],
   "source": [
    "#5622번 다이얼\n"
   ]
  }
 ],
 "metadata": {
  "kernelspec": {
   "display_name": "Python 3",
   "language": "python",
   "name": "python3"
  },
  "language_info": {
   "codemirror_mode": {
    "name": "ipython",
    "version": 3
   },
   "file_extension": ".py",
   "mimetype": "text/x-python",
   "name": "python",
   "nbconvert_exporter": "python",
   "pygments_lexer": "ipython3",
   "version": "3.8.8"
  }
 },
 "nbformat": 4,
 "nbformat_minor": 5
}
