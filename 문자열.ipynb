{
 "cells": [
  {
   "cell_type": "code",
   "execution_count": 8,
   "id": "edd7f970",
   "metadata": {},
   "outputs": [
    {
     "name": "stdout",
     "output_type": "stream",
     "text": [
      "3\n",
      "123\n",
      "6\n"
     ]
    }
   ],
   "source": [
    "#11720번\n",
    "n = input()\n",
    "print(sum(map(int,input())))"
   ]
  },
  {
   "cell_type": "code",
   "execution_count": 9,
   "id": "74001b04",
   "metadata": {},
   "outputs": [
    {
     "name": "stdout",
     "output_type": "stream",
     "text": [
      "4\n",
      "2345\n",
      "14\n"
     ]
    }
   ],
   "source": [
    "n = input()\n",
    "nums = input()\n",
    "total = 0\n",
    "for i in nums :\n",
    "    total += int(i)\n",
    "print(total)"
   ]
  },
  {
   "cell_type": "code",
   "execution_count": 11,
   "id": "cf7f1939",
   "metadata": {},
   "outputs": [
    {
     "name": "stdout",
     "output_type": "stream",
     "text": [
      "3\n",
      "234\n",
      "9\n"
     ]
    }
   ],
   "source": [
    "n = int(input())\n",
    "nums = input()\n",
    "total = 0\n",
    "for i in range(n) :\n",
    "    total += int(nums[i])\n",
    "print(total)"
   ]
  },
  {
   "cell_type": "code",
   "execution_count": 64,
   "id": "73310012",
   "metadata": {},
   "outputs": [
    {
     "name": "stdout",
     "output_type": "stream",
     "text": [
      "apple\n",
      "0 -1 -1 -1 4 -1 -1 -1 -1 -1 -1 3 -1 -1 -1 1 -1 -1 -1 -1 -1 -1 -1 -1 -1 -1 "
     ]
    }
   ],
   "source": [
    "#10809번\n",
    "givenword = input()\n",
    "abc = 'abcdefghijklmnopqrstuvwxyz'\n",
    "\n",
    "for i in abc :\n",
    "    if i in givenword :\n",
    "        print(givenword.index(i), end=' ')\n",
    "    else :\n",
    "        print(-1, end=' ')"
   ]
  },
  {
   "cell_type": "code",
   "execution_count": 71,
   "id": "8abdd8d1",
   "metadata": {},
   "outputs": [
    {
     "name": "stdout",
     "output_type": "stream",
     "text": [
      "2\n",
      "3 ab\n",
      "aaabbb\n",
      "4 bc\n",
      "bbbbcccc\n"
     ]
    }
   ],
   "source": [
    "#2675번\n",
    "testcnt = int(input())\n",
    "for x in range(testcnt) :\n",
    "    num, words = input().split()\n",
    "    for i in words :\n",
    "        for k in range(int(num)) :\n",
    "            print(i, end='')\n",
    "    print()"
   ]
  },
  {
   "cell_type": "code",
   "execution_count": 100,
   "id": "a58c1077",
   "metadata": {},
   "outputs": [
    {
     "name": "stdout",
     "output_type": "stream",
     "text": [
      "abccd\n",
      "C\n"
     ]
    }
   ],
   "source": [
    "# 1157번 문자열 - 단어공부\n",
    "# 코드는 짰는데, 대소문자 구분 안 하는 것에서 막혔다.\n",
    "# 채점 100%에서 런타임 에러..\n",
    "testword = input().lower()\n",
    "abcdict = dict()\n",
    "for i in testword :\n",
    "    if i in abcdict :\n",
    "        abcdict[i] += 1\n",
    "    else :\n",
    "        abcdict[i] = 1\n",
    "        \n",
    "# 정렬하는 시간이 오래 걸리는 듯..\n",
    "sortabc = sorted(abcdict.items(), key=(lambda x : x[1]), reverse=True)\n",
    "\n",
    "if sortabc[0][1] == sortabc[1][1] :\n",
    "    print('?')\n",
    "else :\n",
    "    print(sortabc[0][0].upper())"
   ]
  },
  {
   "cell_type": "code",
   "execution_count": 101,
   "id": "39e2a12e",
   "metadata": {},
   "outputs": [
    {
     "name": "stdout",
     "output_type": "stream",
     "text": [
      "apple\n",
      "P\n"
     ]
    }
   ],
   "source": [
    "# 런타임 통과 코드\n",
    "word = input().lower()\n",
    "word_list = list(set(word))\n",
    "cnt = []\n",
    "\n",
    "for i in word_list :\n",
    "    count = word.count(i)\n",
    "    cnt.append(count)\n",
    "\n",
    "if cnt.count(max(cnt)) >= 2 :\n",
    "    print(\"?\")\n",
    "else :\n",
    "    print(word_list[(cnt.index(max(cnt)))].upper())"
   ]
  },
  {
   "cell_type": "code",
   "execution_count": 104,
   "id": "6953e6e0",
   "metadata": {},
   "outputs": [
    {
     "name": "stdout",
     "output_type": "stream",
     "text": [
      "he was a\n",
      "3\n"
     ]
    }
   ],
   "source": [
    "# 1152번 단어의 개수\n",
    "testsentence = list((input().split()))\n",
    "print(len(testsentence))"
   ]
  },
  {
   "cell_type": "code",
   "execution_count": 136,
   "id": "71bbb68c",
   "metadata": {},
   "outputs": [
    {
     "name": "stdout",
     "output_type": "stream",
     "text": [
      "456 78\n",
      "87\n"
     ]
    }
   ],
   "source": [
    "# 2908번\n",
    "# list(a).reverse()가 안돼서.. \n",
    "a, b = input().split()\n",
    "a = list(a)\n",
    "b = list(b)\n",
    "a.reverse()\n",
    "b.reverse()\n",
    "a2 = ''.join(a)\n",
    "b2 = ''.join(b)\n",
    "if a2 > b2 :\n",
    "    print(a2)\n",
    "else :\n",
    "    print(b2)"
   ]
  },
  {
   "cell_type": "code",
   "execution_count": 137,
   "id": "970fb656",
   "metadata": {},
   "outputs": [
    {
     "data": {
      "text/plain": [
       "'abc'"
      ]
     },
     "execution_count": 137,
     "metadata": {},
     "output_type": "execute_result"
    }
   ],
   "source": [
    "# 거꾸로 출력하기 [시작:끝:규칙]\n",
    "teststr = 'abc'\n",
    "teststr[::1]"
   ]
  },
  {
   "cell_type": "code",
   "execution_count": 138,
   "id": "25a6b7bd",
   "metadata": {},
   "outputs": [
    {
     "data": {
      "text/plain": [
       "'cba'"
      ]
     },
     "execution_count": 138,
     "metadata": {},
     "output_type": "execute_result"
    }
   ],
   "source": [
    "teststr[::-1]"
   ]
  },
  {
   "cell_type": "code",
   "execution_count": 139,
   "id": "0cc0b6ab",
   "metadata": {},
   "outputs": [
    {
     "data": {
      "text/plain": [
       "'ca'"
      ]
     },
     "execution_count": 139,
     "metadata": {},
     "output_type": "execute_result"
    }
   ],
   "source": [
    "teststr[::-2]"
   ]
  },
  {
   "cell_type": "code",
   "execution_count": 145,
   "id": "89e33e90",
   "metadata": {},
   "outputs": [
    {
     "name": "stdout",
     "output_type": "stream",
     "text": [
      "UNUCIC\n",
      "36\n"
     ]
    }
   ],
   "source": [
    "# 5622번 다이얼\n",
    "# 다이얼 숫자 표기를 직접 리스트로 만드는 게 나은 걸까?\n",
    "dial_list = [\n",
    "    ['A', 'B', 'C'],\n",
    "    ['D', 'E', 'F'],\n",
    "    ['G', 'H', 'I'],\n",
    "    ['J', 'K', 'L'], \n",
    "    ['M', 'N', 'O'],\n",
    "    ['P', 'Q', 'R', 'S'], \n",
    "    ['T', 'U', 'V'],\n",
    "    ['W', 'X', 'Y', 'Z']\n",
    "]\n",
    "\n",
    "words = input()\n",
    "sum = 0\n",
    "for i in words :\n",
    "    for k in dial_list :\n",
    "        if i in k :\n",
    "            sum += dial_list.index(k)+2\n",
    "            # index니까 +1, 다이얼 1번은 알파벳이 없으니 +1, 총 +2\n",
    "            \n",
    "print(sum+len(words))"
   ]
  },
  {
   "cell_type": "code",
   "execution_count": 171,
   "id": "5c9528be",
   "metadata": {},
   "outputs": [
    {
     "name": "stdout",
     "output_type": "stream",
     "text": [
      "ljes=njak\n"
     ]
    },
    {
     "ename": "KeyboardInterrupt",
     "evalue": "",
     "output_type": "error",
     "traceback": [
      "\u001b[1;31m---------------------------------------------------------------------------\u001b[0m",
      "\u001b[1;31mKeyboardInterrupt\u001b[0m                         Traceback (most recent call last)",
      "\u001b[1;32m<ipython-input-171-e951e428f3ac>\u001b[0m in \u001b[0;36m<module>\u001b[1;34m\u001b[0m\n\u001b[0;32m     10\u001b[0m         \u001b[0mi\u001b[0m \u001b[1;33m+=\u001b[0m \u001b[1;36m2\u001b[0m\u001b[1;33m\u001b[0m\u001b[1;33m\u001b[0m\u001b[0m\n\u001b[0;32m     11\u001b[0m     \u001b[1;32melif\u001b[0m \u001b[0mwords\u001b[0m\u001b[1;33m[\u001b[0m\u001b[0mi\u001b[0m\u001b[1;33m+\u001b[0m\u001b[1;36m2\u001b[0m\u001b[1;33m]\u001b[0m \u001b[1;32mis\u001b[0m \u001b[1;32mnot\u001b[0m \u001b[1;32mNone\u001b[0m \u001b[1;33m:\u001b[0m\u001b[1;33m\u001b[0m\u001b[1;33m\u001b[0m\u001b[0m\n\u001b[1;32m---> 12\u001b[1;33m         \u001b[1;32mif\u001b[0m \u001b[0mwords\u001b[0m\u001b[1;33m[\u001b[0m\u001b[0mi\u001b[0m\u001b[1;33m]\u001b[0m\u001b[1;33m+\u001b[0m\u001b[0mwords\u001b[0m\u001b[1;33m[\u001b[0m\u001b[0mi\u001b[0m\u001b[1;33m+\u001b[0m\u001b[1;36m1\u001b[0m\u001b[1;33m]\u001b[0m\u001b[1;33m+\u001b[0m\u001b[0mwords\u001b[0m\u001b[1;33m[\u001b[0m\u001b[0mi\u001b[0m\u001b[1;33m+\u001b[0m\u001b[1;36m2\u001b[0m\u001b[1;33m]\u001b[0m \u001b[1;32min\u001b[0m \u001b[0mcroatia\u001b[0m \u001b[1;33m:\u001b[0m\u001b[1;33m\u001b[0m\u001b[1;33m\u001b[0m\u001b[0m\n\u001b[0m\u001b[0;32m     13\u001b[0m             \u001b[0mcnt\u001b[0m \u001b[1;33m+=\u001b[0m \u001b[1;36m1\u001b[0m\u001b[1;33m\u001b[0m\u001b[1;33m\u001b[0m\u001b[0m\n\u001b[0;32m     14\u001b[0m             \u001b[0mi\u001b[0m \u001b[1;33m+=\u001b[0m \u001b[1;36m3\u001b[0m\u001b[1;33m\u001b[0m\u001b[1;33m\u001b[0m\u001b[0m\n",
      "\u001b[1;31mKeyboardInterrupt\u001b[0m: "
     ]
    }
   ],
   "source": [
    "# 2941번 크로아티아 알파벳\n",
    "# 'dz='가 혼자 3글자라서 난관..\n",
    "\n",
    "croatia = ['c=', 'c-', 'dz=', 'd-', 'lj', 'nj', 's=', 'z=']\n",
    "words = input()\n",
    "cnt = 0\n",
    "i = 0\n",
    "while i < len(words) :\n",
    "    if words[i]+words[i+1] in croatia :\n",
    "        cnt += 1\n",
    "        i += 2\n",
    "    elif words[i]+words[i+1]+words[i+2] in croatia :\n",
    "        cnt += 1\n",
    "        i += 3\n",
    "    else :\n",
    "        cnt += 1\n",
    "        i += 1    \n",
    "print(cnt)"
   ]
  },
  {
   "cell_type": "code",
   "execution_count": 172,
   "id": "276df75a",
   "metadata": {
    "scrolled": true
   },
   "outputs": [
    {
     "name": "stdout",
     "output_type": "stream",
     "text": [
      "ljes=njak\n",
      "2\n"
     ]
    }
   ],
   "source": [
    "# 음..\n",
    "croatia = ['c=', 'c-', 'dz=', 'd-', 'lj', 'nj', 's=', 'z=']\n",
    "words = input()\n",
    "\n",
    "for i in croatia :\n",
    "    b = b.replace(i, 'a')\n",
    "    \n",
    "print(len(b))"
   ]
  },
  {
   "cell_type": "code",
   "execution_count": 174,
   "id": "cef0dc07",
   "metadata": {},
   "outputs": [
    {
     "name": "stdout",
     "output_type": "stream",
     "text": [
      "ljes=njak\n",
      "6\n"
     ]
    }
   ],
   "source": [
    "# 내 생각이랑 가장 유사한 코드\n",
    "croatia = ['c=', 'c-', 'dz=', 'd-', 'lj', 'nj', 's=', 'z=']\n",
    "words = input()\n",
    "y = len(words)\n",
    "\n",
    "for i in range(0, len(words)) :\n",
    "    if len(words) < 2 : # 1글자면 사전에 한글자짜리는 없으니까 무조건 1개\n",
    "        y = 1\n",
    "    elif len(words) == 2 : # 2글자면 적어도 앞뒤 하나는 비교 가능하니까\n",
    "        if (words[i-2]+words[i-1]) in croatia :\n",
    "            y = 1\n",
    "    # 두 글자 이상이면\n",
    "    elif (words[i-3]+words[i-2]+words[i-1]) in croatia :\n",
    "        y -= 2\n",
    "    elif (words[i-2]+words[i-1]) in croatia :\n",
    "        y -= 1\n",
    "print(y)"
   ]
  },
  {
   "cell_type": "code",
   "execution_count": 176,
   "id": "ae3f6d00",
   "metadata": {},
   "outputs": [
    {
     "data": {
      "text/plain": [
       "'e'"
      ]
     },
     "execution_count": 176,
     "metadata": {},
     "output_type": "execute_result"
    }
   ],
   "source": [
    "my = 'abced'\n",
    "my[-2]"
   ]
  },
  {
   "cell_type": "code",
   "execution_count": 177,
   "id": "c86aab48",
   "metadata": {},
   "outputs": [
    {
     "name": "stdout",
     "output_type": "stream",
     "text": [
      "ljes=njak\n",
      "6\n"
     ]
    }
   ],
   "source": [
    "alpha = ['c=','c-','dz=','d-','lj','nj','s=','z=']\n",
    "string = input()\n",
    "count = 0\n",
    "for i in alpha:\n",
    "   if i in string:\n",
    "       string = string.replace(i,\" \")\n",
    "print(len(string))"
   ]
  },
  {
   "cell_type": "code",
   "execution_count": 179,
   "id": "57c4a0b7",
   "metadata": {},
   "outputs": [
    {
     "name": "stdout",
     "output_type": "stream",
     "text": [
      " a  \n"
     ]
    }
   ],
   "source": [
    "dictio=['aa', 'bb', 'c']\n",
    "string = 'aaabbbb'\n",
    "for i in dictio :\n",
    "    if i in string :\n",
    "        string = string.replace(i, ' ')\n",
    "print(string)"
   ]
  },
  {
   "cell_type": "code",
   "execution_count": 1,
   "id": "692d4d14",
   "metadata": {},
   "outputs": [
    {
     "name": "stdout",
     "output_type": "stream",
     "text": [
      "a\n",
      "97\n"
     ]
    }
   ],
   "source": [
    "# 건너뛴 아스키코드 기본변환\n",
    "alphabet = input()\n",
    "print(ord(alphabet))"
   ]
  },
  {
   "cell_type": "code",
   "execution_count": 4,
   "id": "d6d3aba7",
   "metadata": {},
   "outputs": [
    {
     "name": "stdout",
     "output_type": "stream",
     "text": [
      "4\n",
      "aba\n",
      "abab\n",
      "abcabc\n",
      "a\n",
      "1\n"
     ]
    }
   ],
   "source": [
    "# 1316번 그룹 단어 체커\n",
    "ans = int(input())\n",
    "result = ans\n",
    "for i in range(0, ans) :\n",
    "    word = input()\n",
    "    for k in range(0, len(word)-1) :\n",
    "        if word[k] == word[k+1] :\n",
    "            pass\n",
    "        elif word[k] in word[k+1:] :\n",
    "            result -= 1\n",
    "            break\n",
    "print(result)"
   ]
  },
  {
   "cell_type": "code",
   "execution_count": null,
   "id": "eac30970",
   "metadata": {},
   "outputs": [],
   "source": []
  }
 ],
 "metadata": {
  "kernelspec": {
   "display_name": "Python 3",
   "language": "python",
   "name": "python3"
  },
  "language_info": {
   "codemirror_mode": {
    "name": "ipython",
    "version": 3
   },
   "file_extension": ".py",
   "mimetype": "text/x-python",
   "name": "python",
   "nbconvert_exporter": "python",
   "pygments_lexer": "ipython3",
   "version": "3.8.8"
  }
 },
 "nbformat": 4,
 "nbformat_minor": 5
}
