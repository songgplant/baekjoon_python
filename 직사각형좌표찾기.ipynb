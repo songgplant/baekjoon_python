{
 "cells": [
  {
   "cell_type": "markdown",
   "id": "bc2325b1",
   "metadata": {},
   "source": [
    "- 직사각형 좌표 찾기\n",
    ": 프로그래머스 테스트 화면 예시 문제. 세 점의 좌표가 주어지고 나머지 한 점의 좌표를 찾아 출력한다. 모든 좌표는 양의 정수범위이다."
   ]
  },
  {
   "cell_type": "markdown",
   "id": "b4018a48",
   "metadata": {},
   "source": [
    "직사각형이므로 x좌표와 y좌표 중 2번 나오지 않은 좌표 위치를 차례로 출력하면 되는 문제였는데, 더 단순하게 풀어야하는 줄 알고 하루종일 고민했지만 대부분 내가 생각했던 방식으로 푸셨다. 가장 단순했던 XOR 방식은.. 아직 많이 공부해야 할 필요성을 느꼈다!"
   ]
  },
  {
   "cell_type": "code",
   "execution_count": 1,
   "id": "5e412587",
   "metadata": {},
   "outputs": [],
   "source": [
    "v = [[1, 4], [3, 4], [3, 10]] # 주어진 테스트 케이스"
   ]
  },
  {
   "cell_type": "code",
   "execution_count": 2,
   "id": "ee2edb19",
   "metadata": {},
   "outputs": [
    {
     "data": {
      "text/plain": [
       "[5, 6]"
      ]
     },
     "execution_count": 2,
     "metadata": {},
     "output_type": "execute_result"
    }
   ],
   "source": [
    "a = [5]\n",
    "b = [6]\n",
    "a + b # 리스트 덧셈 가능"
   ]
  },
  {
   "cell_type": "code",
   "execution_count": 6,
   "id": "cae18f19",
   "metadata": {},
   "outputs": [],
   "source": [
    "# 1. 그냥 리스트로 이용하여 풀기\n",
    "def findxy(v) :\n",
    "    x = []\n",
    "    y = []\n",
    "    answer = []\n",
    "    \n",
    "    for i in v :\n",
    "        if i[0] not in x :\n",
    "            x.append(i[0])\n",
    "        elif i[0] in x :\n",
    "            x.remove(i[0])\n",
    "        \n",
    "        if i[1] not in y :\n",
    "            y.append(i[1])\n",
    "        elif i[1] in y :\n",
    "            y.remove(i[1])\n",
    "            \n",
    "    answer = x+y\n",
    "    \n",
    "    return answer"
   ]
  },
  {
   "cell_type": "code",
   "execution_count": 7,
   "id": "6875917d",
   "metadata": {},
   "outputs": [
    {
     "data": {
      "text/plain": [
       "[1, 10]"
      ]
     },
     "execution_count": 7,
     "metadata": {},
     "output_type": "execute_result"
    }
   ],
   "source": [
    "findxy(v)"
   ]
  },
  {
   "cell_type": "code",
   "execution_count": 8,
   "id": "b99b8006",
   "metadata": {},
   "outputs": [],
   "source": [
    "# 2. 2개씩 있어야 하므로 Counter 를 사용하여 풀이\n",
    "# 카운터는 카운터다, 예를 들어\n",
    "test = [1, 2, 3, 3, 4, 5, 5, 5]"
   ]
  },
  {
   "cell_type": "code",
   "execution_count": 11,
   "id": "84de7e04",
   "metadata": {},
   "outputs": [
    {
     "name": "stdout",
     "output_type": "stream",
     "text": [
      "Counter({5: 3, 3: 2, 1: 1, 2: 1, 4: 1})\n",
      "<class 'collections.Counter'>\n"
     ]
    }
   ],
   "source": [
    "from collections import Counter\n",
    "test_cnt = Counter(test)\n",
    "print(test_cnt)\n",
    "print(type(test_cnt)) # type은 카운터인 것을 생각하기"
   ]
  },
  {
   "cell_type": "code",
   "execution_count": 12,
   "id": "494e5e61",
   "metadata": {},
   "outputs": [
    {
     "data": {
      "text/plain": [
       "3"
      ]
     },
     "execution_count": 12,
     "metadata": {},
     "output_type": "execute_result"
    }
   ],
   "source": [
    "test_cnt[5]"
   ]
  },
  {
   "cell_type": "code",
   "execution_count": 14,
   "id": "8cc9f8c7",
   "metadata": {},
   "outputs": [
    {
     "data": {
      "text/plain": [
       "dict_items([(1, 1), (2, 1), (3, 2), (4, 1), (5, 3)])"
      ]
     },
     "execution_count": 14,
     "metadata": {},
     "output_type": "execute_result"
    }
   ],
   "source": [
    "test_cnt.items()"
   ]
  },
  {
   "cell_type": "code",
   "execution_count": 15,
   "id": "0c594068",
   "metadata": {},
   "outputs": [],
   "source": [
    "# 각 x좌표, y좌표 리스트에 넣고\n",
    "# 딕셔너리 value값이 1인 값을 꺼내기\n",
    "\n",
    "def find_counter(v) :\n",
    "    x = [i[0] for i in v]\n",
    "    y = [i[1] for i in v]\n",
    "    x_cnt = Counter(x)\n",
    "    y_cnt = Counter(y)\n",
    "    \n",
    "    x_re = [i for i in x_cnt if x_cnt[i] == 1]\n",
    "    y_re = [i for i in y_cnt if y_cnt[i] == 1]\n",
    "    \n",
    "    answer = x_re + y_re\n",
    "    \n",
    "    return answer"
   ]
  },
  {
   "cell_type": "code",
   "execution_count": 16,
   "id": "54ce44a3",
   "metadata": {},
   "outputs": [
    {
     "data": {
      "text/plain": [
       "[1, 10]"
      ]
     },
     "execution_count": 16,
     "metadata": {},
     "output_type": "execute_result"
    }
   ],
   "source": [
    "find_counter(v)"
   ]
  },
  {
   "cell_type": "code",
   "execution_count": 25,
   "id": "c5c80670",
   "metadata": {},
   "outputs": [],
   "source": [
    "# find_counter 함수에서 \n",
    "# [i for i in x_cnt if x_cnt[i] == 1] 처럼 한줄 코딩을 못할 때는\n",
    "def find_counter(v) :\n",
    "    x = []\n",
    "    y = []\n",
    "    \n",
    "    for i in v :\n",
    "        x.append(i[0])\n",
    "        y.append(i[1])\n",
    "        \n",
    "    x_cnt = Counter(x)\n",
    "    y_cnt = Counter(y)\n",
    "    \n",
    "    x_re = []\n",
    "    y_re = []\n",
    "    \n",
    "    for i in x_cnt :\n",
    "        if x_cnt[i] == 1 :\n",
    "            x_re.append(i)\n",
    "            \n",
    "    for i in y_cnt :\n",
    "        if y_cnt[i] == 1 :\n",
    "            y_re.append(i)\n",
    "            \n",
    "    answer = x_re + y_re\n",
    "    \n",
    "    return answer"
   ]
  },
  {
   "cell_type": "code",
   "execution_count": 26,
   "id": "aa60ecff",
   "metadata": {},
   "outputs": [
    {
     "data": {
      "text/plain": [
       "[1, 10]"
      ]
     },
     "execution_count": 26,
     "metadata": {},
     "output_type": "execute_result"
    }
   ],
   "source": [
    "find_counter(v)"
   ]
  },
  {
   "cell_type": "markdown",
   "id": "ba98f2ca",
   "metadata": {},
   "source": [
    "그리고 전혀 생각 못한 XOR방법<br>\n",
    "참조 : https://velog.io/@illstandtall/Programmerspython-6.-%EB%AC%B8%EC%A0%9C%ED%92%80%EC%9D%B4-%EC%8B%A4%EC%8A%B5-1-%ED%94%84%EB%A1%9C%EA%B7%B8%EB%9E%98%EB%A8%B8%EC%8A%A4-%EB%82%98%EB%A8%B8%EC%A7%80-%ED%95%9C-%EC%A0%90"
   ]
  },
  {
   "cell_type": "code",
   "execution_count": null,
   "id": "9badc662",
   "metadata": {},
   "outputs": [],
   "source": [
    "# XOR 이용\n",
    "def solution(v):\n",
    "    x = [i[0] for i in v]\n",
    "    y = [i[1] for i in v]\n",
    "\n",
    "    for i in range(2):\n",
    "        x[0] ^= x[i + 1]\n",
    "        y[0] ^= y[i + 1]\n",
    "    answer = [x[0], y[0]]\n",
    "\n",
    "    return answer"
   ]
  }
 ],
 "metadata": {
  "kernelspec": {
   "display_name": "Python 3",
   "language": "python",
   "name": "python3"
  },
  "language_info": {
   "codemirror_mode": {
    "name": "ipython",
    "version": 3
   },
   "file_extension": ".py",
   "mimetype": "text/x-python",
   "name": "python",
   "nbconvert_exporter": "python",
   "pygments_lexer": "ipython3",
   "version": "3.8.8"
  }
 },
 "nbformat": 4,
 "nbformat_minor": 5
}
