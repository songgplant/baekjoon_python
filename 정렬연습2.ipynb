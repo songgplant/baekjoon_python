{
 "cells": [
  {
   "cell_type": "code",
   "execution_count": 3,
   "id": "dbd31c76",
   "metadata": {},
   "outputs": [
    {
     "name": "stdout",
     "output_type": "stream",
     "text": [
      "2143\n",
      "4321"
     ]
    }
   ],
   "source": [
    "# 1427번 소트인사이드\n",
    "numb = input() # 자연수라서 int\n",
    "lst = []\n",
    "for i in numb :\n",
    "    lst.append(i)\n",
    "lst.sort(reverse=True)\n",
    "for k in lst :\n",
    "    print(k, end='')"
   ]
  },
  {
   "cell_type": "code",
   "execution_count": 14,
   "id": "3eee662e",
   "metadata": {},
   "outputs": [
    {
     "name": "stdout",
     "output_type": "stream",
     "text": [
      "5\n",
      "3 4\n",
      "1 1\n",
      "1 -1\n",
      "2 2\n",
      "3 3\n",
      "1 -1\n",
      "1 1\n",
      "2 2\n",
      "3 3\n",
      "3 4\n"
     ]
    }
   ],
   "source": [
    "# 11650번 좌표 정렬하기\n",
    "cnt = int(input())\n",
    "lst= []\n",
    "for i in range(cnt) :\n",
    "    x, y = input().split(' ')\n",
    "    lst.append([int(x), int(y)])\n",
    "lst.sort()\n",
    "for k in lst :\n",
    "    print(\"%d %d\" % (k[0], k[1]))"
   ]
  },
  {
   "cell_type": "code",
   "execution_count": 17,
   "id": "e9958dd7",
   "metadata": {},
   "outputs": [
    {
     "name": "stdout",
     "output_type": "stream",
     "text": [
      "5\n",
      "0 4\n",
      "1 2\n",
      "1 -1\n",
      "2 2\n",
      "1 4\n",
      "1 -1\n",
      "1 2\n",
      "2 2\n",
      "0 4\n",
      "1 4\n"
     ]
    }
   ],
   "source": [
    "# 11651번 좌표 정렬하기 2\n",
    "cnt = int(input())\n",
    "lst= []\n",
    "for i in range(cnt) :\n",
    "    x, y = input().split(' ')\n",
    "    lst.append([int(x), int(y)])\n",
    "a = sorted(lst, key=lambda x : (x[1], x[0])) # 각 리스트 요소의 인덱스 1번째로 정렬\n",
    "for k in a :\n",
    "    print(\"%d %d\" % (k[0], k[1]))"
   ]
  },
  {
   "cell_type": "code",
   "execution_count": 18,
   "id": "7d328923",
   "metadata": {},
   "outputs": [
    {
     "name": "stdout",
     "output_type": "stream",
     "text": [
      "5\n",
      "but\n",
      "i\n",
      "wont\n",
      "hesitate\n",
      "want\n",
      "['i', 'but', 'want', 'wont', 'hesitate']\n"
     ]
    }
   ],
   "source": [
    "# 1181번 단어 정렬\n",
    "num = int(input())\n",
    "words = []\n",
    "for i in range(num) :\n",
    "    words.append(input()) # num <= 20000 조건\n",
    "words.sort()\n",
    "words.sort(key=lambda x : len(x))\n",
    "print(words)"
   ]
  },
  {
   "cell_type": "code",
   "execution_count": 20,
   "id": "890353c6",
   "metadata": {},
   "outputs": [
    {
     "name": "stdout",
     "output_type": "stream",
     "text": [
      "4\n",
      "but\n",
      "bee\n",
      "bye\n",
      "bird\n",
      "bee\n",
      "but\n",
      "bye\n",
      "bird\n"
     ]
    }
   ],
   "source": [
    "# 1181번 단어 정렬\n",
    "num = int(input())\n",
    "words = []\n",
    "for i in range(num) :\n",
    "    words.append(input()) # num <= 20000 조건\n",
    "words = list(set(words))\n",
    "for k in range(len(words)) :\n",
    "    word_len = len(words[k])\n",
    "    words[k] = (words[k], word_len)\n",
    "words.sort(key = lambda x : (x[1], x[0]))\n",
    "for q in words :\n",
    "    print(q[0])"
   ]
  },
  {
   "cell_type": "code",
   "execution_count": 23,
   "id": "ce545642",
   "metadata": {},
   "outputs": [
    {
     "name": "stdout",
     "output_type": "stream",
     "text": [
      "3\n",
      "21 Jun\n",
      "21 Doh\n",
      "20 Sun\n",
      "20 Sun\n",
      "21 Jun\n",
      "21 Doh\n"
     ]
    }
   ],
   "source": [
    "#10814번 나이순 정렬\n",
    "# 값이 같은 원소의 전후관계가 바뀌지 않는 정렬 알고리즘을 안정 정렬(stable sort)이라고 합니다.\n",
    "# 이름 알파벳 순 아닌 input순서 순\n",
    "N = int(input())\n",
    "n_list = []\n",
    "for i in range(N) :\n",
    "    age, name = input().split(' ')\n",
    "    n_list.append([i, int(age), name])\n",
    "n_list.sort(key = lambda x : (x[1], x[0]))\n",
    "for k in n_list :\n",
    "    print(\"%d %s\" % (k[1], k[2]))"
   ]
  },
  {
   "cell_type": "code",
   "execution_count": 46,
   "id": "6d403ee4",
   "metadata": {},
   "outputs": [
    {
     "name": "stdout",
     "output_type": "stream",
     "text": [
      "4\n",
      "4 5 4 5\n",
      "0 1 0 1 "
     ]
    }
   ],
   "source": [
    "# 18870번 좌표 압축\n",
    "# 시간 초과..\n",
    "# 만약 정확한 값이 필요 없고 값의 대소 관계만 필요하다면, \n",
    "# 모든 수를 0 이상 N 미만의 수로 바꿀 수 있습니다.\n",
    "N = int(input())\n",
    "lst = list(map(int, input().split(' ')))\n",
    "lst2 = sorted(lst)\n",
    "result = []\n",
    "ans = 0\n",
    "for k in range(len(lst2)) :\n",
    "    if k == len(lst2)-1 :\n",
    "        result.append([lst2[k], ans]) \n",
    "    elif lst2[k] != lst2[k+1] :\n",
    "        result.append([lst2[k], ans])\n",
    "        ans += 1\n",
    "    elif lst2[k] == lst2[k+1] :\n",
    "        result.append([lst2[k], ans])\n",
    "        \n",
    "for p in lst :\n",
    "    for q in range(len(result)) :\n",
    "        if p == result[q][0] :\n",
    "            print(result[q][1], end=\" \")\n",
    "            break"
   ]
  },
  {
   "cell_type": "markdown",
   "id": "f4112e6d",
   "metadata": {},
   "source": [
    "18870번 : 입력 리스트를 복사해서 정렬하고, 복사한 리스트와 원래 리스트를 비교하려 했는데 문제 핵심이 리스트 안에서 자기보다 작은 숫자의 개수를 세는 것이었다.\n",
    "아직 너무 1차원적으로 푸는 것 같다.."
   ]
  },
  {
   "cell_type": "code",
   "execution_count": 47,
   "id": "0c68f71b",
   "metadata": {
    "collapsed": true
   },
   "outputs": [
    {
     "ename": "ValueError",
     "evalue": "invalid literal for int() with base 10: ''",
     "output_type": "error",
     "traceback": [
      "\u001b[1;31m---------------------------------------------------------------------------\u001b[0m",
      "\u001b[1;31mValueError\u001b[0m                                Traceback (most recent call last)",
      "\u001b[1;32m<ipython-input-47-c1fa5225bf61>\u001b[0m in \u001b[0;36m<module>\u001b[1;34m\u001b[0m\n\u001b[0;32m      1\u001b[0m \u001b[1;31m# 참고 : https://eunhee-programming.tistory.com/116\u001b[0m\u001b[1;33m\u001b[0m\u001b[1;33m\u001b[0m\u001b[1;33m\u001b[0m\u001b[0m\n\u001b[0;32m      2\u001b[0m \u001b[1;32mimport\u001b[0m \u001b[0msys\u001b[0m\u001b[1;33m\u001b[0m\u001b[1;33m\u001b[0m\u001b[0m\n\u001b[1;32m----> 3\u001b[1;33m \u001b[0mN\u001b[0m \u001b[1;33m=\u001b[0m \u001b[0mint\u001b[0m\u001b[1;33m(\u001b[0m\u001b[0msys\u001b[0m\u001b[1;33m.\u001b[0m\u001b[0mstdin\u001b[0m\u001b[1;33m.\u001b[0m\u001b[0mreadline\u001b[0m\u001b[1;33m(\u001b[0m\u001b[1;33m)\u001b[0m\u001b[1;33m)\u001b[0m\u001b[1;33m\u001b[0m\u001b[1;33m\u001b[0m\u001b[0m\n\u001b[0m\u001b[0;32m      4\u001b[0m \u001b[0marr\u001b[0m \u001b[1;33m=\u001b[0m \u001b[0mlist\u001b[0m\u001b[1;33m(\u001b[0m\u001b[0mmap\u001b[0m\u001b[1;33m(\u001b[0m\u001b[0mint\u001b[0m\u001b[1;33m,\u001b[0m \u001b[0msys\u001b[0m\u001b[1;33m.\u001b[0m\u001b[0mstdin\u001b[0m\u001b[1;33m.\u001b[0m\u001b[0mreadline\u001b[0m\u001b[1;33m(\u001b[0m\u001b[1;33m)\u001b[0m\u001b[1;33m.\u001b[0m\u001b[0msplit\u001b[0m\u001b[1;33m(\u001b[0m\u001b[1;33m)\u001b[0m\u001b[1;33m)\u001b[0m\u001b[1;33m)\u001b[0m\u001b[1;33m\u001b[0m\u001b[1;33m\u001b[0m\u001b[0m\n\u001b[0;32m      5\u001b[0m \u001b[0marr2\u001b[0m \u001b[1;33m=\u001b[0m \u001b[1;33m[\u001b[0m\u001b[1;33m]\u001b[0m\u001b[1;33m\u001b[0m\u001b[1;33m\u001b[0m\u001b[0m\n",
      "\u001b[1;31mValueError\u001b[0m: invalid literal for int() with base 10: ''"
     ]
    }
   ],
   "source": [
    "# 참고 : https://eunhee-programming.tistory.com/116\n",
    "import sys\n",
    "N = int(sys.stdin.readline())\n",
    "arr = list(map(int, sys.stdin.readline().split()))\n",
    "arr2 = []\n",
    "\n",
    "arr2 = list(sorted(set(arr))) # 중복을 제거하고 정렬하기\n",
    "\n",
    "dic = {arr2[i]:i for i in range (len(arr2))}\n",
    "# i 가 1일 때, arr2[1] : 1이다. 자기보다 작은 수는 1개\n",
    "# i 가 2일 때, arr[2]는 앞에서 3번째 수. 자기보다 작은 수는 2개\n",
    "\n",
    "for i in arr : # 원래 입력한 리스트에서\n",
    "    print(dic[i], end=' ') # dic[2]의 값"
   ]
  },
  {
   "cell_type": "markdown",
   "id": "9af7ab80",
   "metadata": {},
   "source": [
    "만약 처음 주어진 정렬의 첫번째 값이 2라면, dic[2]는 딕셔너리의 키값이 2인 것의 value값을 출력하라는 것. 딕셔너리에는 이미 자신보다 작은 수의 개수가 value값으로 들어있는 것."
   ]
  },
  {
   "cell_type": "code",
   "execution_count": null,
   "id": "2789f51f",
   "metadata": {},
   "outputs": [],
   "source": [
    "# 시간 초과지만 배울 코드\n",
    "import sys\n",
    "N = int(sys.stdin.readline())\n",
    "arr = list(map(int,sys.stdin.readline().split()))\n",
    "arr2 = []\n",
    "arr2 = list(set(arr))\n",
    "arr2.sort()\n",
    "for i in range(len(arr)) :\n",
    "    arr[i]=arr2.index(arr[i]) \n",
    "print(*arr,sep=\" \")"
   ]
  }
 ],
 "metadata": {
  "kernelspec": {
   "display_name": "Python 3",
   "language": "python",
   "name": "python3"
  },
  "language_info": {
   "codemirror_mode": {
    "name": "ipython",
    "version": 3
   },
   "file_extension": ".py",
   "mimetype": "text/x-python",
   "name": "python",
   "nbconvert_exporter": "python",
   "pygments_lexer": "ipython3",
   "version": "3.8.8"
  }
 },
 "nbformat": 4,
 "nbformat_minor": 5
}
