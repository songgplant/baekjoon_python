{
 "cells": [
  {
   "cell_type": "markdown",
   "id": "b3946ac3",
   "metadata": {},
   "source": [
    "11047번 동전 0"
   ]
  },
  {
   "cell_type": "code",
   "execution_count": 1,
   "id": "e27fe415",
   "metadata": {},
   "outputs": [],
   "source": [
    "# 파이썬 산술연산"
   ]
  },
  {
   "cell_type": "code",
   "execution_count": 2,
   "id": "bed4b739",
   "metadata": {},
   "outputs": [
    {
     "data": {
      "text/plain": [
       "2"
      ]
     },
     "execution_count": 2,
     "metadata": {},
     "output_type": "execute_result"
    }
   ],
   "source": [
    "1 + 1"
   ]
  },
  {
   "cell_type": "code",
   "execution_count": 6,
   "id": "f1090d06",
   "metadata": {},
   "outputs": [
    {
     "data": {
      "text/plain": [
       "1.5"
      ]
     },
     "execution_count": 6,
     "metadata": {},
     "output_type": "execute_result"
    }
   ],
   "source": [
    "3 / 2 # 그냥 나누기"
   ]
  },
  {
   "cell_type": "code",
   "execution_count": 7,
   "id": "11aeeb05",
   "metadata": {},
   "outputs": [
    {
     "data": {
      "text/plain": [
       "1"
      ]
     },
     "execution_count": 7,
     "metadata": {},
     "output_type": "execute_result"
    }
   ],
   "source": [
    "3 // 2 # 몫"
   ]
  },
  {
   "cell_type": "code",
   "execution_count": 8,
   "id": "21106666",
   "metadata": {},
   "outputs": [
    {
     "data": {
      "text/plain": [
       "1"
      ]
     },
     "execution_count": 8,
     "metadata": {},
     "output_type": "execute_result"
    }
   ],
   "source": [
    "3 % 2 # 나머지"
   ]
  },
  {
   "cell_type": "code",
   "execution_count": 11,
   "id": "c2f5d691",
   "metadata": {},
   "outputs": [
    {
     "name": "stdout",
     "output_type": "stream",
     "text": [
      "7 4200\n",
      "1\n",
      "5\n",
      "10\n",
      "50\n",
      "100\n",
      "500\n",
      "1000\n",
      "6\n"
     ]
    }
   ],
   "source": [
    "N, K = map(int, input().split())\n",
    "coin_list = list()\n",
    "\n",
    "for i in range(N) :\n",
    "    coin_list.append(int(input()))\n",
    "    \n",
    "cnt = 0 # 몫으로 나눠지면 생기는 돈 사용 종류 수\n",
    "coin_list.sort(reverse=True)\n",
    "\n",
    "for i in coin_list :\n",
    "    cnt += K // i\n",
    "    K %= i # 나머지가 새로운 K\n",
    "    \n",
    "    if K == 0 :\n",
    "        break\n",
    "\n",
    "print(cnt)"
   ]
  },
  {
   "cell_type": "markdown",
   "id": "1791da0f",
   "metadata": {},
   "source": [
    "1931번 회의실 배정"
   ]
  },
  {
   "cell_type": "code",
   "execution_count": 51,
   "id": "81b72956",
   "metadata": {},
   "outputs": [],
   "source": [
    "test_time = [[1, 4], [3, 6], [3, 5], [0, 6], [5, 7],\n",
    "            [3, 8], [5, 9], [6, 10], [8, 11],\n",
    "            [8, 12], [2, 13], [12, 14]]\n",
    "test2 = test_time.copy()"
   ]
  },
  {
   "cell_type": "code",
   "execution_count": 52,
   "id": "6795a0c7",
   "metadata": {},
   "outputs": [],
   "source": [
    "test_time.sort(key = lambda x : x[0])"
   ]
  },
  {
   "cell_type": "code",
   "execution_count": 53,
   "id": "e9ddf463",
   "metadata": {},
   "outputs": [
    {
     "data": {
      "text/plain": [
       "[[0, 6],\n",
       " [1, 4],\n",
       " [2, 13],\n",
       " [3, 6],\n",
       " [3, 5],\n",
       " [3, 8],\n",
       " [5, 7],\n",
       " [5, 9],\n",
       " [6, 10],\n",
       " [8, 11],\n",
       " [8, 12],\n",
       " [12, 14]]"
      ]
     },
     "execution_count": 53,
     "metadata": {},
     "output_type": "execute_result"
    }
   ],
   "source": [
    "test_time"
   ]
  },
  {
   "cell_type": "code",
   "execution_count": 54,
   "id": "8cf9a967",
   "metadata": {},
   "outputs": [
    {
     "data": {
      "text/plain": [
       "[[1, 4],\n",
       " [3, 5],\n",
       " [0, 6],\n",
       " [3, 6],\n",
       " [5, 7],\n",
       " [3, 8],\n",
       " [5, 9],\n",
       " [6, 10],\n",
       " [8, 11],\n",
       " [8, 12],\n",
       " [2, 13],\n",
       " [12, 14]]"
      ]
     },
     "execution_count": 54,
     "metadata": {},
     "output_type": "execute_result"
    }
   ],
   "source": [
    "test_time.sort(key = lambda x : x[1])\n",
    "test_time"
   ]
  },
  {
   "cell_type": "markdown",
   "id": "1faddb2b",
   "metadata": {},
   "source": [
    "[시작시간 정렬하고 -> 끝나는 시간 정렬하기]와 [끝나는 시간 -> 시작 시간정렬]의 결과는 다르다. 끝나는 시간 먼저 정렬하면, 무조건 0시에 시작하는 회의가 먼저 오므로 나중에 정렬하는 의미가 없지 않을까?<br>\n",
    "정렬 순서를 끝->시작으로 하면 틀린다."
   ]
  },
  {
   "cell_type": "code",
   "execution_count": null,
   "id": "649b814a",
   "metadata": {},
   "outputs": [],
   "source": [
    "N = int(input())\n",
    "time = []\n",
    "\n",
    "for i in range(N) :\n",
    "    start, end = map(int, input().split())\n",
    "    time.append([start, end])\n",
    "\n",
    "time = sorted(time, key=lambda x : x[0])\n",
    "time = sorted(time, key=lambda x : x[1])\n",
    "\n",
    "last = 0\n",
    "count = 0\n",
    "\n",
    "for i, j in time :\n",
    "    if i >= last :\n",
    "        count += 1\n",
    "        last = j\n",
    "print(count)"
   ]
  },
  {
   "cell_type": "code",
   "execution_count": null,
   "id": "be7b2b05",
   "metadata": {},
   "outputs": [],
   "source": [
    "# 1931 다른 코드 참조\n",
    "N = int(input())\n",
    "time = []\n",
    "\n",
    "for _ in range(N):\n",
    "    start, end = map(int, input().split())\n",
    "    time.append([start, end])\n",
    "\n",
    "time = sorted(time, key=lambda a: a[0]) # 시작 시간을 기준으로 오름차순\n",
    "time = sorted(time, key=lambda a: a[1]) # 끝나는 시간을 기준으로 다시 오름차순\n",
    "\n",
    "last = 0 # 회의의 마지막 시간을 저장할 변수\n",
    "conut = 0 # 회의 개수를 저장할 변수\n",
    "\n",
    "for i, j in time:\n",
    "    if i >= last: # 시작시간이 회의의 마지막 시간보다 크거나 같을경우\n",
    "        conut += 1\n",
    "        last = j\n",
    "\n",
    "print(conut)\n",
    "# https://jokerldg.github.io/algorithm/2021/03/11/meeting-room.html"
   ]
  },
  {
   "cell_type": "code",
   "execution_count": null,
   "id": "09b535d3",
   "metadata": {},
   "outputs": [],
   "source": [
    "# 제3자가 봐도 이해하기 편하게 주석과 변수명을 설정한다\n",
    "n = int(input())\n",
    "\n",
    "meeting = list()\n",
    "cnt = 0\n",
    "start_time = 0\n",
    "\n",
    "for i in range(n) :\n",
    "    a1, a2 = map(int, input().split()) # 시작시간, 종료시간 \n",
    "    meeting.append((a1, a2)) \n",
    "    \n",
    "#정렬에 람다 사용\n",
    "meeting = sorted(meeting, key=lambda time: time[0]) # 시작시간 기준 정렬\n",
    "meeting = sorted(meeting, key=lambda time: time[1]) # 그 상태에서 종료시간 기준 정렬\n",
    "\n",
    "for i in range(n) :\n",
    "    if meeting[i][0] >= start_time : \n",
    "        start_time = meeting[i][1] # 바로 시작할 수 있으므로 \n",
    "        cnt += 1 \n",
    "        \n",
    "print(cnt)\n",
    "\n",
    "# 출처: https://jshong1125.tistory.com/24 [it 공부 기록용 블로그]"
   ]
  },
  {
   "cell_type": "markdown",
   "id": "af62e2cc",
   "metadata": {},
   "source": [
    "11399번 ATM"
   ]
  },
  {
   "cell_type": "code",
   "execution_count": null,
   "id": "7d2184b8",
   "metadata": {},
   "outputs": [],
   "source": []
  }
 ],
 "metadata": {
  "kernelspec": {
   "display_name": "Python 3",
   "language": "python",
   "name": "python3"
  },
  "language_info": {
   "codemirror_mode": {
    "name": "ipython",
    "version": 3
   },
   "file_extension": ".py",
   "mimetype": "text/x-python",
   "name": "python",
   "nbconvert_exporter": "python",
   "pygments_lexer": "ipython3",
   "version": "3.8.8"
  }
 },
 "nbformat": 4,
 "nbformat_minor": 5
}
