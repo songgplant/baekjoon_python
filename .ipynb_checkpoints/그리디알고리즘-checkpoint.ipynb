{
 "cells": [
  {
   "cell_type": "markdown",
   "id": "5bce0303",
   "metadata": {},
   "source": [
    "11047번 동전 0"
   ]
  },
  {
   "cell_type": "code",
   "execution_count": 1,
   "id": "16818a82",
   "metadata": {},
   "outputs": [],
   "source": [
    "# 파이썬 산술연산"
   ]
  },
  {
   "cell_type": "code",
   "execution_count": 2,
   "id": "24dfb421",
   "metadata": {},
   "outputs": [
    {
     "data": {
      "text/plain": [
       "2"
      ]
     },
     "execution_count": 2,
     "metadata": {},
     "output_type": "execute_result"
    }
   ],
   "source": [
    "1 + 1"
   ]
  },
  {
   "cell_type": "code",
   "execution_count": 6,
   "id": "69308add",
   "metadata": {},
   "outputs": [
    {
     "data": {
      "text/plain": [
       "1.5"
      ]
     },
     "execution_count": 6,
     "metadata": {},
     "output_type": "execute_result"
    }
   ],
   "source": [
    "3 / 2 # 그냥 나누기"
   ]
  },
  {
   "cell_type": "code",
   "execution_count": 7,
   "id": "e95dcea8",
   "metadata": {},
   "outputs": [
    {
     "data": {
      "text/plain": [
       "1"
      ]
     },
     "execution_count": 7,
     "metadata": {},
     "output_type": "execute_result"
    }
   ],
   "source": [
    "3 // 2 # 몫"
   ]
  },
  {
   "cell_type": "code",
   "execution_count": 8,
   "id": "dbf2127d",
   "metadata": {},
   "outputs": [
    {
     "data": {
      "text/plain": [
       "1"
      ]
     },
     "execution_count": 8,
     "metadata": {},
     "output_type": "execute_result"
    }
   ],
   "source": [
    "3 % 2 # 나머지"
   ]
  },
  {
   "cell_type": "code",
   "execution_count": 11,
   "id": "4011dae3",
   "metadata": {},
   "outputs": [
    {
     "name": "stdout",
     "output_type": "stream",
     "text": [
      "7 4200\n",
      "1\n",
      "5\n",
      "10\n",
      "50\n",
      "100\n",
      "500\n",
      "1000\n",
      "6\n"
     ]
    }
   ],
   "source": [
    "N, K = map(int, input().split())\n",
    "coin_list = list()\n",
    "\n",
    "for i in range(N) :\n",
    "    coin_list.append(int(input()))\n",
    "    \n",
    "cnt = 0 # 몫으로 나눠지면 생기는 돈 사용 종류 수\n",
    "coin_list.sort(reverse=True)\n",
    "\n",
    "for i in coin_list :\n",
    "    cnt += K // i\n",
    "    K %= i # 나머지가 새로운 K\n",
    "    \n",
    "    if K == 0 :\n",
    "        break\n",
    "\n",
    "print(cnt)"
   ]
  },
  {
   "cell_type": "markdown",
   "id": "c9bef00e",
   "metadata": {},
   "source": [
    "1931번 회의실 배정"
   ]
  },
  {
   "cell_type": "code",
   "execution_count": 51,
   "id": "9d02b649",
   "metadata": {},
   "outputs": [],
   "source": [
    "test_time = [[1, 4], [3, 6], [3, 5], [0, 6], [5, 7],\n",
    "            [3, 8], [5, 9], [6, 10], [8, 11],\n",
    "            [8, 12], [2, 13], [12, 14]]\n",
    "test2 = test_time.copy()"
   ]
  },
  {
   "cell_type": "code",
   "execution_count": 52,
   "id": "12ddb360",
   "metadata": {},
   "outputs": [],
   "source": [
    "test_time.sort(key = lambda x : x[0])"
   ]
  },
  {
   "cell_type": "code",
   "execution_count": 53,
   "id": "4a031880",
   "metadata": {},
   "outputs": [
    {
     "data": {
      "text/plain": [
       "[[0, 6],\n",
       " [1, 4],\n",
       " [2, 13],\n",
       " [3, 6],\n",
       " [3, 5],\n",
       " [3, 8],\n",
       " [5, 7],\n",
       " [5, 9],\n",
       " [6, 10],\n",
       " [8, 11],\n",
       " [8, 12],\n",
       " [12, 14]]"
      ]
     },
     "execution_count": 53,
     "metadata": {},
     "output_type": "execute_result"
    }
   ],
   "source": [
    "test_time"
   ]
  },
  {
   "cell_type": "code",
   "execution_count": 54,
   "id": "b0cb02df",
   "metadata": {},
   "outputs": [
    {
     "data": {
      "text/plain": [
       "[[1, 4],\n",
       " [3, 5],\n",
       " [0, 6],\n",
       " [3, 6],\n",
       " [5, 7],\n",
       " [3, 8],\n",
       " [5, 9],\n",
       " [6, 10],\n",
       " [8, 11],\n",
       " [8, 12],\n",
       " [2, 13],\n",
       " [12, 14]]"
      ]
     },
     "execution_count": 54,
     "metadata": {},
     "output_type": "execute_result"
    }
   ],
   "source": [
    "test_time.sort(key = lambda x : x[1])\n",
    "test_time"
   ]
  },
  {
   "cell_type": "markdown",
   "id": "0c3918ea",
   "metadata": {},
   "source": [
    "[시작시간 정렬하고 -> 끝나는 시간 정렬하기]와 [끝나는 시간 -> 시작 시간정렬]의 결과는 다르다. 끝나는 시간 먼저 정렬하면, 무조건 0시에 시작하는 회의가 먼저 오므로 나중에 정렬하는 의미가 없지 않을까?<br>\n",
    "정렬 순서를 끝->시작으로 하면 틀린다."
   ]
  },
  {
   "cell_type": "code",
   "execution_count": null,
   "id": "56197af3",
   "metadata": {},
   "outputs": [],
   "source": [
    "N = int(input())\n",
    "time = []\n",
    "\n",
    "for i in range(N) :\n",
    "    start, end = map(int, input().split())\n",
    "    time.append([start, end])\n",
    "\n",
    "time = sorted(time, key=lambda x : x[0])\n",
    "time = sorted(time, key=lambda x : x[1])\n",
    "\n",
    "last = 0\n",
    "count = 0\n",
    "\n",
    "for i, j in time :\n",
    "    if i >= last :\n",
    "        count += 1\n",
    "        last = j\n",
    "print(count)"
   ]
  },
  {
   "cell_type": "code",
   "execution_count": null,
   "id": "a1b8cdf6",
   "metadata": {},
   "outputs": [],
   "source": [
    "# 1931 다른 코드 참조\n",
    "N = int(input())\n",
    "time = []\n",
    "\n",
    "for _ in range(N):\n",
    "    start, end = map(int, input().split())\n",
    "    time.append([start, end])\n",
    "\n",
    "time = sorted(time, key=lambda a: a[0]) # 시작 시간을 기준으로 오름차순\n",
    "time = sorted(time, key=lambda a: a[1]) # 끝나는 시간을 기준으로 다시 오름차순\n",
    "\n",
    "last = 0 # 회의의 마지막 시간을 저장할 변수\n",
    "conut = 0 # 회의 개수를 저장할 변수\n",
    "\n",
    "for i, j in time:\n",
    "    if i >= last: # 시작시간이 회의의 마지막 시간보다 크거나 같을경우\n",
    "        conut += 1\n",
    "        last = j\n",
    "\n",
    "print(conut)\n",
    "# https://jokerldg.github.io/algorithm/2021/03/11/meeting-room.html"
   ]
  },
  {
   "cell_type": "code",
   "execution_count": null,
   "id": "92d73853",
   "metadata": {},
   "outputs": [],
   "source": [
    "# 제3자가 봐도 이해하기 편하게 주석과 변수명을 설정한다\n",
    "n = int(input())\n",
    "\n",
    "meeting = list()\n",
    "cnt = 0\n",
    "start_time = 0\n",
    "\n",
    "for i in range(n) :\n",
    "    a1, a2 = map(int, input().split()) # 시작시간, 종료시간 \n",
    "    meeting.append((a1, a2)) \n",
    "    \n",
    "#정렬에 람다 사용\n",
    "meeting = sorted(meeting, key=lambda time: time[0]) # 시작시간 기준 정렬\n",
    "meeting = sorted(meeting, key=lambda time: time[1]) # 그 상태에서 종료시간 기준 정렬\n",
    "\n",
    "for i in range(n) :\n",
    "    if meeting[i][0] >= start_time : \n",
    "        start_time = meeting[i][1] # 바로 시작할 수 있으므로 \n",
    "        cnt += 1 \n",
    "        \n",
    "print(cnt)\n",
    "\n",
    "# 출처: https://jshong1125.tistory.com/24 [it 공부 기록용 블로그]"
   ]
  },
  {
   "cell_type": "markdown",
   "id": "d500db37",
   "metadata": {},
   "source": [
    "11399번 ATM"
   ]
  },
  {
   "cell_type": "code",
   "execution_count": 55,
   "id": "4828eff3",
   "metadata": {},
   "outputs": [
    {
     "data": {
      "text/plain": [
       "15"
      ]
     },
     "execution_count": 55,
     "metadata": {},
     "output_type": "execute_result"
    }
   ],
   "source": [
    "testlist = [1,2,3,4,5]\n",
    "sum(testlist)"
   ]
  },
  {
   "cell_type": "code",
   "execution_count": 56,
   "id": "0843acf0",
   "metadata": {},
   "outputs": [
    {
     "name": "stdout",
     "output_type": "stream",
     "text": [
      "4\n",
      "3 1 4 3\n"
     ]
    }
   ],
   "source": [
    "N = int(input())\n",
    "P = list(map(int, input().split()))\n",
    "\n",
    "P.sort()\n",
    "eachsum = 0\n",
    "totalsum = 0\n",
    "for i in range(N) :\n",
    "    eachsum = sum(P[:i+1])\n",
    "    totalsum += eachsum\n",
    "print(totalsum)"
   ]
  },
  {
   "cell_type": "markdown",
   "id": "45fdaaff",
   "metadata": {},
   "source": [
    "1541번 잃어버린 괄호"
   ]
  },
  {
   "cell_type": "markdown",
   "id": "7c672299",
   "metadata": {},
   "source": [
    "문제 이해를 못함.. 2자리수 이상의 숫자 사이에도 괄호가 들어갈 수 있는지..?"
   ]
  },
  {
   "cell_type": "markdown",
   "id": "3ff61b64",
   "metadata": {},
   "source": [
    "또 혼자 꼬아서 생각했다, 가장 큰 수 합을 만들어서 빼주면 되는 것"
   ]
  },
  {
   "cell_type": "code",
   "execution_count": 60,
   "id": "03ddb80e",
   "metadata": {},
   "outputs": [
    {
     "name": "stdout",
     "output_type": "stream",
     "text": [
      "['50+40+20', '60', '200', '10+30', '70']\n"
     ]
    }
   ],
   "source": [
    "N = '50+40+20-60-200-10+30-70'\n",
    "exp = N.split(\"-\")\n",
    "print(exp)"
   ]
  },
  {
   "cell_type": "code",
   "execution_count": null,
   "id": "4aa53418",
   "metadata": {},
   "outputs": [],
   "source": [
    "# 최소값을 만드는 거지만, 수식의 순서는 바뀌면 안되기 때문에\n",
    "# 빼는 값을 최대로 하면 전체는 최소값으로 됨\n",
    "S = input().split(\"-\") # 수식이므로 int형 변환은 불가능\n",
    "\n",
    "total = 0\n",
    "for i in S[0].split(\"+\") :\n",
    "    total += int(i) # int 변환\n",
    "    \n",
    "for i in S[1:] :\n",
    "    for j in i.split(\"+\") : # 뒤에 있는 것들 중 +가 포함된 원소는 따로 계산할 수 없음..\n",
    "        total -= int(j)\n",
    "        \n",
    "print(total)"
   ]
  }
 ],
 "metadata": {
  "kernelspec": {
   "display_name": "Python 3",
   "language": "python",
   "name": "python3"
  },
  "language_info": {
   "codemirror_mode": {
    "name": "ipython",
    "version": 3
   },
   "file_extension": ".py",
   "mimetype": "text/x-python",
   "name": "python",
   "nbconvert_exporter": "python",
   "pygments_lexer": "ipython3",
   "version": "3.8.8"
  }
 },
 "nbformat": 4,
 "nbformat_minor": 5
}
