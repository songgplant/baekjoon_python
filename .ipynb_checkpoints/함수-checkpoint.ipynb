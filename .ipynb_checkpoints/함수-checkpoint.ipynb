{
 "cells": [
  {
   "cell_type": "code",
   "execution_count": 1,
   "id": "d9b3e6c7",
   "metadata": {},
   "outputs": [],
   "source": [
    "# 함수의 기본\n",
    "def solve(num_list):\n",
    "    result = 0\n",
    "    for num in num_list:\n",
    "        result += num\n",
    "    return result"
   ]
  },
  {
   "cell_type": "code",
   "execution_count": 6,
   "id": "7263e80b",
   "metadata": {},
   "outputs": [
    {
     "name": "stdout",
     "output_type": "stream",
     "text": [
      "1\n",
      "3\n",
      "5\n",
      "7\n",
      "9\n",
      "20\n",
      "31\n",
      "42\n",
      "53\n",
      "64\n",
      "75\n",
      "86\n",
      "97\n"
     ]
    }
   ],
   "source": [
    "def d(n) :\n",
    "    n = n + sum(map(int, str(n)))\n",
    "    return n\n",
    "\n",
    "nonSelfNum = list()\n",
    "\n",
    "for i in range(1, 100+1) :\n",
    "    nonSelfNum.append(d(i))\n",
    "    \n",
    "nonSelfNum = set(nonSelfNum)\n",
    "\n",
    "for k in range(1, 100+1) :\n",
    "    if k not in nonSelfNum :\n",
    "        print(k)"
   ]
  },
  {
   "cell_type": "code",
   "execution_count": 7,
   "id": "24d0f3f6",
   "metadata": {},
   "outputs": [
    {
     "name": "stdout",
     "output_type": "stream",
     "text": [
      "100\n",
      "99\n"
     ]
    }
   ],
   "source": [
    "# 등차수열 응용하기\n",
    "# elif 코드에서 0번째와 1번째 비교, 1번째와 2번째 비교가\n",
    "# num < 1000 이라는 조건 때문에 쉽게 쓸 수 있는 코드라고 생각해서\n",
    "# 고민했었는데 다들 인덱스로 구분하셨다.. \n",
    "def hansu(num) :\n",
    "    hansu_cnt = 0\n",
    "    for i in range(1, num+1) :\n",
    "        numlist = list(map(int, str(i)))\n",
    "        if i < 100 : # 각 자리 차이값이 1개만 존재하므로 모두 등차\n",
    "            hansu_cnt += 1\n",
    "        elif numlist[0]-numlist[1] == numlist[1]-numlist[2] :\n",
    "            hansu_cnt += 1\n",
    "    return hansu_cnt\n",
    "\n",
    "num = int(input())\n",
    "print(hansu(num))"
   ]
  },
  {
   "cell_type": "code",
   "execution_count": null,
   "id": "4bfeeecb",
   "metadata": {},
   "outputs": [],
   "source": []
  }
 ],
 "metadata": {
  "kernelspec": {
   "display_name": "Python 3",
   "language": "python",
   "name": "python3"
  },
  "language_info": {
   "codemirror_mode": {
    "name": "ipython",
    "version": 3
   },
   "file_extension": ".py",
   "mimetype": "text/x-python",
   "name": "python",
   "nbconvert_exporter": "python",
   "pygments_lexer": "ipython3",
   "version": "3.8.8"
  }
 },
 "nbformat": 4,
 "nbformat_minor": 5
}
