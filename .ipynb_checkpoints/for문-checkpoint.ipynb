{
 "cells": [
  {
   "cell_type": "code",
   "execution_count": 1,
   "id": "aa32da7a",
   "metadata": {},
   "outputs": [
    {
     "name": "stdout",
     "output_type": "stream",
     "text": [
      "1  *  1  =  1\n",
      "1  *  2  =  2\n",
      "1  *  3  =  3\n",
      "1  *  4  =  4\n",
      "1  *  5  =  5\n",
      "1  *  6  =  6\n",
      "1  *  7  =  7\n",
      "1  *  8  =  8\n",
      "1  *  9  =  9\n",
      "2  *  1  =  2\n",
      "2  *  2  =  4\n",
      "2  *  3  =  6\n",
      "2  *  4  =  8\n",
      "2  *  5  =  10\n",
      "2  *  6  =  12\n",
      "2  *  7  =  14\n",
      "2  *  8  =  16\n",
      "2  *  9  =  18\n",
      "3  *  1  =  3\n",
      "3  *  2  =  6\n",
      "3  *  3  =  9\n",
      "3  *  4  =  12\n",
      "3  *  5  =  15\n",
      "3  *  6  =  18\n",
      "3  *  7  =  21\n",
      "3  *  8  =  24\n",
      "3  *  9  =  27\n",
      "4  *  1  =  4\n",
      "4  *  2  =  8\n",
      "4  *  3  =  12\n",
      "4  *  4  =  16\n",
      "4  *  5  =  20\n",
      "4  *  6  =  24\n",
      "4  *  7  =  28\n",
      "4  *  8  =  32\n",
      "4  *  9  =  36\n",
      "5  *  1  =  5\n",
      "5  *  2  =  10\n",
      "5  *  3  =  15\n",
      "5  *  4  =  20\n",
      "5  *  5  =  25\n",
      "5  *  6  =  30\n",
      "5  *  7  =  35\n",
      "5  *  8  =  40\n",
      "5  *  9  =  45\n",
      "6  *  1  =  6\n",
      "6  *  2  =  12\n",
      "6  *  3  =  18\n",
      "6  *  4  =  24\n",
      "6  *  5  =  30\n",
      "6  *  6  =  36\n",
      "6  *  7  =  42\n",
      "6  *  8  =  48\n",
      "6  *  9  =  54\n",
      "7  *  1  =  7\n",
      "7  *  2  =  14\n",
      "7  *  3  =  21\n",
      "7  *  4  =  28\n",
      "7  *  5  =  35\n",
      "7  *  6  =  42\n",
      "7  *  7  =  49\n",
      "7  *  8  =  56\n",
      "7  *  9  =  63\n",
      "8  *  1  =  8\n",
      "8  *  2  =  16\n",
      "8  *  3  =  24\n",
      "8  *  4  =  32\n",
      "8  *  5  =  40\n",
      "8  *  6  =  48\n",
      "8  *  7  =  56\n",
      "8  *  8  =  64\n",
      "8  *  9  =  72\n",
      "9  *  1  =  9\n",
      "9  *  2  =  18\n",
      "9  *  3  =  27\n",
      "9  *  4  =  36\n",
      "9  *  5  =  45\n",
      "9  *  6  =  54\n",
      "9  *  7  =  63\n",
      "9  *  8  =  72\n",
      "9  *  9  =  81\n"
     ]
    }
   ],
   "source": [
    "# 구구단 어떻게 하더라..\n",
    "for i in range(1, 10, 1) :\n",
    "    for k in range(1, 10, 1) :\n",
    "        print(i, ' * ', k, ' = ', i*k)"
   ]
  },
  {
   "cell_type": "code",
   "execution_count": 2,
   "id": "a831de6c",
   "metadata": {},
   "outputs": [
    {
     "name": "stdout",
     "output_type": "stream",
     "text": [
      "2\n",
      "2  *  1  =  2\n",
      "2  *  2  =  4\n",
      "2  *  3  =  6\n",
      "2  *  4  =  8\n",
      "2  *  5  =  10\n",
      "2  *  6  =  12\n",
      "2  *  7  =  14\n",
      "2  *  8  =  16\n",
      "2  *  9  =  18\n"
     ]
    }
   ],
   "source": [
    "num = int(input())\n",
    "for i in range(1, 10, 1) :\n",
    "    print(num, '*', i, '=', num*i)"
   ]
  },
  {
   "cell_type": "code",
   "execution_count": 6,
   "id": "a9aab352",
   "metadata": {},
   "outputs": [
    {
     "name": "stdout",
     "output_type": "stream",
     "text": [
      "3\n",
      "2 3\n",
      "5\n",
      "4 9\n",
      "13\n",
      "2 4\n",
      "6\n"
     ]
    }
   ],
   "source": [
    "cnt = int(input())\n",
    "for i in range(cnt) :\n",
    "    a, b = input().split()\n",
    "    print(int(a)+int(b))"
   ]
  },
  {
   "cell_type": "code",
   "execution_count": 9,
   "id": "6f4c1009",
   "metadata": {},
   "outputs": [
    {
     "name": "stdout",
     "output_type": "stream",
     "text": [
      "3\n",
      "6\n"
     ]
    }
   ],
   "source": [
    "num = int(input())\n",
    "sum = 0\n",
    "for i in range(num+1) :\n",
    "    sum += i\n",
    "print(sum)"
   ]
  },
  {
   "cell_type": "code",
   "execution_count": 16,
   "id": "e635c7ca",
   "metadata": {},
   "outputs": [
    {
     "name": "stdout",
     "output_type": "stream",
     "text": [
      "\n"
     ]
    }
   ],
   "source": [
    "import sys\n",
    "data = []\n",
    "n = sys.stdin.readline().strip()\n",
    "\n",
    "print(n)\n",
    "# for i in range(int(n)):\n",
    "#     data.append(list(map(int, sys.stdin.readline().split())))"
   ]
  },
  {
   "cell_type": "code",
   "execution_count": 14,
   "id": "4a2bf203",
   "metadata": {},
   "outputs": [],
   "source": [
    "import sys\n",
    "\n",
    "sentence = sys.stdin.readline()"
   ]
  },
  {
   "cell_type": "code",
   "execution_count": 19,
   "id": "f42ab25c",
   "metadata": {},
   "outputs": [
    {
     "name": "stdout",
     "output_type": "stream",
     "text": [
      "3\n",
      "1\n",
      "2\n",
      "3\n"
     ]
    }
   ],
   "source": [
    "# N 찍기\n",
    "num = int(input())\n",
    "for i in range(1, num+1) :\n",
    "    print(i)"
   ]
  },
  {
   "cell_type": "code",
   "execution_count": 22,
   "id": "22bb0042",
   "metadata": {},
   "outputs": [
    {
     "name": "stdout",
     "output_type": "stream",
     "text": [
      "3\n",
      "3\n",
      "2\n",
      "1\n"
     ]
    }
   ],
   "source": [
    "# N 거꾸로 찍기\n",
    "num = int(input())\n",
    "for i in range(num, 0, -1) :\n",
    "    print(i)"
   ]
  },
  {
   "cell_type": "code",
   "execution_count": 23,
   "id": "432bf3b0",
   "metadata": {},
   "outputs": [
    {
     "name": "stdout",
     "output_type": "stream",
     "text": [
      "3\n",
      "1 1\n",
      "Case #1: 2\n",
      "2 4\n",
      "Case #2: 6\n",
      "5 7\n",
      "Case #3: 12\n"
     ]
    }
   ],
   "source": [
    "# A+B 예쁘게 출력하기\n",
    "T = int(input()) # testcase 숫자\n",
    "for i in range(1, T+1) :\n",
    "    a, b = map(int, input().split())\n",
    "    print(\"Case #%d: %d\" %(i, a+b))"
   ]
  },
  {
   "cell_type": "code",
   "execution_count": 24,
   "id": "a798e391",
   "metadata": {},
   "outputs": [
    {
     "name": "stdout",
     "output_type": "stream",
     "text": [
      "3\n",
      "1 1\n",
      "Case #1: 1 + 1 = 2\n",
      "3 4\n",
      "Case #2: 3 + 4 = 7\n",
      "5 6\n",
      "Case #3: 5 + 6 = 11\n"
     ]
    }
   ],
   "source": [
    "# A+B 더 예쁘게 출력하기\n",
    "T = int(input()) # testcase 숫자\n",
    "for i in range(1, T+1) :\n",
    "    a, b = map(int, input().split())\n",
    "    print(\"Case #%d: %d + %d = %d\" %(i,a,b,a+b))"
   ]
  },
  {
   "cell_type": "code",
   "execution_count": 26,
   "id": "ab56f690",
   "metadata": {
    "scrolled": true
   },
   "outputs": [
    {
     "name": "stdout",
     "output_type": "stream",
     "text": [
      "4\n",
      "\n",
      "*\n",
      "**\n",
      "***\n",
      "****\n"
     ]
    }
   ],
   "source": [
    "# 별 찍기\n",
    "num = int(input())\n",
    "for i in range(1, num+1) :\n",
    "    print(\"*\"*i)"
   ]
  },
  {
   "cell_type": "code",
   "execution_count": 28,
   "id": "83e77f05",
   "metadata": {},
   "outputs": [
    {
     "name": "stdout",
     "output_type": "stream",
     "text": [
      "3\n",
      "  *\n",
      " **\n",
      "***\n"
     ]
    }
   ],
   "source": [
    "# 별 찍기 오른쪽 정렬?\n",
    "num = int(input())\n",
    "for i in range(1, num+1) :\n",
    "    print(' '*(num-i)+'*'*i)"
   ]
  },
  {
   "cell_type": "code",
   "execution_count": 32,
   "id": "1f1fbdbe",
   "metadata": {},
   "outputs": [
    {
     "name": "stdout",
     "output_type": "stream",
     "text": [
      "3 4\n",
      "3 4 5\n",
      "3 "
     ]
    }
   ],
   "source": [
    "# X보다 작은 수\n",
    "a, b = map(int, input().split())\n",
    "data = list(map(int, input().split()))\n",
    "testlist = []\n",
    "for i in range(a) :\n",
    "    if b > data[i] :\n",
    "        testlist.append(data[i])\n",
    "\n",
    "for k in testlist :\n",
    "    print(k, end=\" \")"
   ]
  },
  {
   "cell_type": "code",
   "execution_count": 30,
   "id": "dd40edf1",
   "metadata": {},
   "outputs": [
    {
     "data": {
      "text/plain": [
       "[1, 2, 3, 4]"
      ]
     },
     "execution_count": 30,
     "metadata": {},
     "output_type": "execute_result"
    }
   ],
   "source": [
    "data"
   ]
  },
  {
   "cell_type": "code",
   "execution_count": null,
   "id": "5549e9ea",
   "metadata": {},
   "outputs": [],
   "source": []
  }
 ],
 "metadata": {
  "kernelspec": {
   "display_name": "Python 3",
   "language": "python",
   "name": "python3"
  },
  "language_info": {
   "codemirror_mode": {
    "name": "ipython",
    "version": 3
   },
   "file_extension": ".py",
   "mimetype": "text/x-python",
   "name": "python",
   "nbconvert_exporter": "python",
   "pygments_lexer": "ipython3",
   "version": "3.8.8"
  }
 },
 "nbformat": 4,
 "nbformat_minor": 5
}
