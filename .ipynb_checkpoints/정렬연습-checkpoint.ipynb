{
 "cells": [
  {
   "cell_type": "markdown",
   "id": "070e533f",
   "metadata": {},
   "source": [
    "선택 정렬"
   ]
  },
  {
   "cell_type": "code",
   "execution_count": 4,
   "id": "68bc8594",
   "metadata": {},
   "outputs": [
    {
     "name": "stdout",
     "output_type": "stream",
     "text": [
      "[8, 6, 4, 1, 2, 3, 5, 10, 9, 7]\n",
      "[1, 8, 6, 4, 2, 3, 5, 10, 9, 7]\n",
      "[1, 3, 8, 6, 4, 2, 5, 10, 9, 7]\n",
      "[1, 3, 2, 8, 6, 4, 5, 10, 9, 7]\n",
      "[1, 3, 2, 4, 8, 6, 5, 10, 9, 7]\n",
      "[1, 3, 2, 4, 6, 8, 5, 10, 9, 7]\n",
      "[1, 3, 2, 4, 6, 7, 8, 10, 9, 5]\n",
      "[1, 3, 2, 4, 6, 7, 5, 10, 9, 8]\n",
      "[1, 3, 2, 4, 6, 7, 5, 8, 10, 9]\n",
      "[1, 3, 2, 4, 6, 7, 5, 8, 9, 10]\n",
      "[1, 3, 2, 4, 6, 7, 5, 8, 9, 10]\n"
     ]
    }
   ],
   "source": [
    "testlist = [8,6,4,1,2,3,5,10,9,7]\n",
    "\n",
    "for i in range(len(testlist)) :\n",
    "    print(testlist)\n",
    "    main_index = i # 맨 첫 자리의 숫자를 기준으로\n",
    "    \n",
    "    for k in range(i, len(testlist)) :\n",
    "        if testlist[k] < testlist[main_index] : # 작은 값이 나타나면\n",
    "            main_index = k\n",
    "            # k번째가 가장 작다고 해서 나머지 비교대상 중에 더 작은 값이 나타날 수 있으므로\n",
    "            # 바로 k번째 숫자를 main_index숫자로 바꾸지 않는다.\n",
    "            # 모든 비교 끝나고(if문 끝나고) 숫자 바꾸기\n",
    "        testlist[i], testlist[main_index] = testlist[main_index], testlist[i]\n",
    "print(testlist)"
   ]
  },
  {
   "cell_type": "markdown",
   "id": "d37beec5",
   "metadata": {},
   "source": [
    "버블 정렬"
   ]
  },
  {
   "cell_type": "code",
   "execution_count": 6,
   "id": "fa45d17c",
   "metadata": {},
   "outputs": [
    {
     "name": "stdout",
     "output_type": "stream",
     "text": [
      "[8, 6, 4, 1, 2, 3, 5, 10, 9, 7]\n",
      "[6, 4, 1, 2, 3, 5, 8, 9, 7, 10]\n",
      "[4, 1, 2, 3, 5, 6, 8, 7, 9, 10]\n",
      "[1, 2, 3, 4, 5, 6, 7, 8, 9, 10]\n",
      "[1, 2, 3, 4, 5, 6, 7, 8, 9, 10]\n",
      "[1, 2, 3, 4, 5, 6, 7, 8, 9, 10]\n",
      "[1, 2, 3, 4, 5, 6, 7, 8, 9, 10]\n",
      "[1, 2, 3, 4, 5, 6, 7, 8, 9, 10]\n",
      "[1, 2, 3, 4, 5, 6, 7, 8, 9, 10]\n",
      "[1, 2, 3, 4, 5, 6, 7, 8, 9, 10]\n",
      "[1, 2, 3, 4, 5, 6, 7, 8, 9, 10]\n"
     ]
    }
   ],
   "source": [
    "li = [8,6,4,1,2,3,5,10,9,7]\n",
    "for i in range(len(li)) :\n",
    "    print(li)\n",
    "    \n",
    "    for k in range(len(li)-i-1) :\n",
    "        if li[k] > li[k+1] :\n",
    "            li[k], li[k+1] = li[k+1], li[k]\n",
    "\n",
    "print(li)"
   ]
  },
  {
   "cell_type": "code",
   "execution_count": 7,
   "id": "cd978ed5",
   "metadata": {},
   "outputs": [
    {
     "name": "stdout",
     "output_type": "stream",
     "text": [
      "4\n",
      "4\n",
      "2\n",
      "3\n",
      "1\n",
      "1\n",
      "2\n",
      "3\n",
      "4\n"
     ]
    }
   ],
   "source": [
    "# 2750번 : 수 정렬하기\n",
    "# pypy3로 실행\n",
    "num = int(input())\n",
    "testlist = []\n",
    "for i in range(num) :\n",
    "    testlist.append(int(input()))\n",
    "testlist.sort()\n",
    "for k in testlist :\n",
    "    print(k)"
   ]
  },
  {
   "cell_type": "code",
   "execution_count": 8,
   "id": "6f5e640e",
   "metadata": {},
   "outputs": [
    {
     "name": "stdout",
     "output_type": "stream",
     "text": [
      "5\n",
      "\n",
      "\n",
      "\n",
      "\n",
      "\n"
     ]
    }
   ],
   "source": [
    "# 2751번 : 수 정렬하기\n",
    "# 시간 복잡도\n",
    "# 2750번처럼 하면 시간복잡도 때문에 에러\n",
    "import sys\n",
    "\n",
    "num = int(input())\n",
    "testlist = []\n",
    "for i in range(num) :\n",
    "    testlist.append(sys.stdin.readline()) # prompt message 안 뜸\n",
    "testlist.sort()\n",
    "for k in testlist :\n",
    "    print(k)"
   ]
  },
  {
   "cell_type": "code",
   "execution_count": 12,
   "id": "9c5a39b1",
   "metadata": {},
   "outputs": [
    {
     "name": "stdout",
     "output_type": "stream",
     "text": [
      "5\n"
     ]
    },
    {
     "ename": "ValueError",
     "evalue": "invalid literal for int() with base 10: ''",
     "output_type": "error",
     "traceback": [
      "\u001b[1;31m---------------------------------------------------------------------------\u001b[0m",
      "\u001b[1;31mValueError\u001b[0m                                Traceback (most recent call last)",
      "\u001b[1;32m<ipython-input-12-b69d1871fa78>\u001b[0m in \u001b[0;36m<module>\u001b[1;34m\u001b[0m\n\u001b[0;32m      9\u001b[0m \u001b[1;33m\u001b[0m\u001b[0m\n\u001b[0;32m     10\u001b[0m \u001b[1;32mfor\u001b[0m \u001b[0mi\u001b[0m \u001b[1;32min\u001b[0m \u001b[0mrange\u001b[0m\u001b[1;33m(\u001b[0m\u001b[0mN\u001b[0m\u001b[1;33m)\u001b[0m \u001b[1;33m:\u001b[0m\u001b[1;33m\u001b[0m\u001b[1;33m\u001b[0m\u001b[0m\n\u001b[1;32m---> 11\u001b[1;33m     \u001b[0minput_num\u001b[0m \u001b[1;33m=\u001b[0m \u001b[0mint\u001b[0m\u001b[1;33m(\u001b[0m\u001b[0msys\u001b[0m\u001b[1;33m.\u001b[0m\u001b[0mstdin\u001b[0m\u001b[1;33m.\u001b[0m\u001b[0mreadline\u001b[0m\u001b[1;33m(\u001b[0m\u001b[1;33m)\u001b[0m\u001b[1;33m)\u001b[0m\u001b[1;33m\u001b[0m\u001b[1;33m\u001b[0m\u001b[0m\n\u001b[0m\u001b[0;32m     12\u001b[0m \u001b[1;33m\u001b[0m\u001b[0m\n\u001b[0;32m     13\u001b[0m     \u001b[0mcheck_list\u001b[0m\u001b[1;33m[\u001b[0m\u001b[0minput_num\u001b[0m\u001b[1;33m]\u001b[0m \u001b[1;33m=\u001b[0m \u001b[0mcheck_list\u001b[0m\u001b[1;33m[\u001b[0m\u001b[0minput_num\u001b[0m\u001b[1;33m]\u001b[0m \u001b[1;33m+\u001b[0m \u001b[1;36m1\u001b[0m\u001b[1;33m\u001b[0m\u001b[1;33m\u001b[0m\u001b[0m\n",
      "\u001b[1;31mValueError\u001b[0m: invalid literal for int() with base 10: ''"
     ]
    }
   ],
   "source": [
    "# 10989번 수 정렬하기 3\n",
    "# 수의 범위가 작다면 카운팅 정렬을 사용하여 더욱 빠르게 정렬할 수 있습니다.\n",
    "# 참고 : https://yoonsang-it.tistory.com/49\n",
    "import sys\n",
    "\n",
    "N = int(input())\n",
    "\n",
    "check_list = [0] * 10001 # 문제 주어진 조건\n",
    "\n",
    "for i in range(N) :\n",
    "    input_num = int(sys.stdin.readline())\n",
    "    \n",
    "    check_list[input_num] = check_list[input_num] + 1\n",
    "\n",
    "for i in range(10001) :\n",
    "    if check_list[i] != 0 :\n",
    "        for j in range(check_list[i]) :\n",
    "            print(i)\n",
    "# 주피터에서 코드 성공하는지 수동입력해보는 prompt message 필요.."
   ]
  },
  {
   "cell_type": "code",
   "execution_count": 27,
   "id": "8ea5616b",
   "metadata": {},
   "outputs": [
    {
     "name": "stdout",
     "output_type": "stream",
     "text": [
      "4\n",
      "1\n",
      "2\n",
      "3\n",
      "4\n",
      "2\n",
      "2\n",
      "2\n",
      "3\n"
     ]
    }
   ],
   "source": [
    "# 2108번 통계학\n",
    "# numpy없이 중앙값, 최빈값 출력 코드는 길어질 것 같다.\n",
    "# module not found. numpy를 사용하면 안된다.\n",
    "import numpy\n",
    "from collections import Counter\n",
    "\n",
    "num = int(input())\n",
    "testlist = []\n",
    "\n",
    "for i in range(num) :\n",
    "    testlist.append(int(input()))\n",
    "    \n",
    "print(int(round(sum(testlist)/num, 0)))\n",
    "print(int(numpy.median(testlist)))\n",
    "\n",
    "mostcnt = Counter(testlist)\n",
    "top2 = mostcnt.most_common(2)\n",
    "if top2[0][1] == top2[1][1] :\n",
    "    print(top2[1][0])\n",
    "else :\n",
    "    print(top2[0][0])\n",
    "print(numpy.max(testlist)-numpy.min(testlist))"
   ]
  },
  {
   "cell_type": "code",
   "execution_count": null,
   "id": "e8a32c3e",
   "metadata": {},
   "outputs": [],
   "source": [
    "# 최빈값 - 빈출\n",
    "cnt_li = Counter(li).most_common()\n",
    "if len(cnt_li) > 1 and cnt_li[0][1]==cnt_li[1][1]: #최빈값 2개 이상이고, 첫째 줄 조건이 1 초과일 때\n",
    "    print(cnt_li[1][0])\n",
    "else:\n",
    "    print(cnt_li[0][0])"
   ]
  },
  {
   "cell_type": "code",
   "execution_count": 31,
   "id": "5f109da8",
   "metadata": {
    "collapsed": true
   },
   "outputs": [
    {
     "ename": "ValueError",
     "evalue": "invalid literal for int() with base 10: ''",
     "output_type": "error",
     "traceback": [
      "\u001b[1;31m---------------------------------------------------------------------------\u001b[0m",
      "\u001b[1;31mValueError\u001b[0m                                Traceback (most recent call last)",
      "\u001b[1;32m<ipython-input-31-a5a71fbc956a>\u001b[0m in \u001b[0;36m<module>\u001b[1;34m\u001b[0m\n\u001b[0;32m      2\u001b[0m \u001b[1;32mfrom\u001b[0m \u001b[0mcollections\u001b[0m \u001b[1;32mimport\u001b[0m \u001b[0mCounter\u001b[0m\u001b[1;33m\u001b[0m\u001b[1;33m\u001b[0m\u001b[0m\n\u001b[0;32m      3\u001b[0m \u001b[1;33m\u001b[0m\u001b[0m\n\u001b[1;32m----> 4\u001b[1;33m \u001b[0mnum\u001b[0m \u001b[1;33m=\u001b[0m \u001b[0mint\u001b[0m\u001b[1;33m(\u001b[0m\u001b[0msys\u001b[0m\u001b[1;33m.\u001b[0m\u001b[0mstdin\u001b[0m\u001b[1;33m.\u001b[0m\u001b[0mreadline\u001b[0m\u001b[1;33m(\u001b[0m\u001b[1;33m)\u001b[0m\u001b[1;33m)\u001b[0m\u001b[1;33m\u001b[0m\u001b[1;33m\u001b[0m\u001b[0m\n\u001b[0m\u001b[0;32m      5\u001b[0m \u001b[0mtestlist\u001b[0m \u001b[1;33m=\u001b[0m \u001b[1;33m[\u001b[0m\u001b[1;33m]\u001b[0m\u001b[1;33m\u001b[0m\u001b[1;33m\u001b[0m\u001b[0m\n\u001b[0;32m      6\u001b[0m \u001b[1;33m\u001b[0m\u001b[0m\n",
      "\u001b[1;31mValueError\u001b[0m: invalid literal for int() with base 10: ''"
     ]
    }
   ],
   "source": [
    "import sys\n",
    "from collections import Counter\n",
    "\n",
    "num = int(sys.stdin.readline())\n",
    "testlist = []\n",
    "\n",
    "for _ in range(num) :\n",
    "    testlist.append(int(sys.stdin.readline()))\n",
    "    \n",
    "print(round(sum(testlist)/num, 1))\n",
    "testlist.sort()\n",
    "print(testlist[num//2])\n",
    "\n",
    "cnt_li = Counter(testlist).most_common()\n",
    "if len(cnt_li) > 1 and cnt_li[0][1]==cnt_li[1][1] :\n",
    "    print(cnt_li[1][0])\n",
    "else :\n",
    "    print(cnt_li[0][0])\n",
    "    \n",
    "print(max(testlist)-min(testlist))"
   ]
  },
  {
   "cell_type": "code",
   "execution_count": null,
   "id": "0d8ec3c4",
   "metadata": {},
   "outputs": [],
   "source": [
    "# 참고 : https://jiwon-coding.tistory.com/8\n",
    "# 코테는 numpy, pandas 제외하고 사용하기"
   ]
  }
 ],
 "metadata": {
  "kernelspec": {
   "display_name": "Python 3",
   "language": "python",
   "name": "python3"
  },
  "language_info": {
   "codemirror_mode": {
    "name": "ipython",
    "version": 3
   },
   "file_extension": ".py",
   "mimetype": "text/x-python",
   "name": "python",
   "nbconvert_exporter": "python",
   "pygments_lexer": "ipython3",
   "version": "3.8.8"
  }
 },
 "nbformat": 4,
 "nbformat_minor": 5
}
