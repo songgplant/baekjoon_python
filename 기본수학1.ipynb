{
 "cells": [
  {
   "cell_type": "markdown",
   "id": "360b5e5a",
   "metadata": {},
   "source": [
    "1712번 손익분기점"
   ]
  },
  {
   "cell_type": "code",
   "execution_count": null,
   "id": "2b34f7b2",
   "metadata": {},
   "outputs": [],
   "source": [
    "a, b, c = int(input().split())\n",
    "\n",
    "# a 고정비용\n",
    "# b 변동비용\n",
    "# c 판매가격\n",
    "# 비용 : 고정비용 + (변동비용 * 판매수량)\n"
   ]
  }
 ],
 "metadata": {
  "kernelspec": {
   "display_name": "Python 3",
   "language": "python",
   "name": "python3"
  },
  "language_info": {
   "codemirror_mode": {
    "name": "ipython",
    "version": 3
   },
   "file_extension": ".py",
   "mimetype": "text/x-python",
   "name": "python",
   "nbconvert_exporter": "python",
   "pygments_lexer": "ipython3",
   "version": "3.8.8"
  }
 },
 "nbformat": 4,
 "nbformat_minor": 5
}
